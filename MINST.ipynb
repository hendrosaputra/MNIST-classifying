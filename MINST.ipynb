{
 "cells": [
  {
   "cell_type": "markdown",
   "id": "baf449b9",
   "metadata": {},
   "source": [
    "# Import the relevant packages"
   ]
  },
  {
   "cell_type": "code",
   "execution_count": 2,
   "id": "48630b90",
   "metadata": {},
   "outputs": [],
   "source": [
    "import numpy as np\n",
    "import tensorflow as tf\n",
    "import tensorflow_datasets as tfds"
   ]
  },
  {
   "cell_type": "markdown",
   "id": "73702103",
   "metadata": {},
   "source": [
    "# Data"
   ]
  },
  {
   "cell_type": "markdown",
   "id": "52c6b1c4",
   "metadata": {},
   "source": [
    "## download MNIST datasate"
   ]
  },
  {
   "cell_type": "code",
   "execution_count": 3,
   "id": "4c5e9b33",
   "metadata": {},
   "outputs": [],
   "source": [
    "#tfds.load actually loads a dataset (or downloads and then loads if that's the first time you use it) \n",
    "#with_info = True : provide a tuple containing info about cersion, feature and number of sample\n",
    "#as_supervised  =True: load data in 2-tuple structure [input, target]\n",
    "mnist_dataset, mnist_info = tfds.load(name = 'mnist', with_info = True, as_supervised = True)\n"
   ]
  },
  {
   "cell_type": "markdown",
   "id": "9c0f70c8",
   "metadata": {},
   "source": [
    "## Preprocessed data"
   ]
  },
  {
   "cell_type": "code",
   "execution_count": 62,
   "id": "25fef197",
   "metadata": {},
   "outputs": [],
   "source": [
    "#Extract the train and test data\n",
    "mnist_train,mnist_test = mnist_dataset['train'],mnist_dataset['test']\n",
    "\n",
    "#Validation dataset taken from train data set. We take 10% of train data test\n",
    "#setting the number of validation sample\n",
    "num_validation_samples = 0.1 * mnist_info.splits['train'].num_examples\n",
    "\n",
    "#convert number of validation sample to integer\n",
    "num_validation_samples =tf.cast(num_validation_samples, tf.int64)\n",
    "\n",
    "#Store number of test sample in dedicated variable & cast it to integer\n",
    "num_test_samples = mnist_info.splits['test'].num_examples\n",
    "num_test_samples = tf.cast(num_test_samples, tf.int64)\n",
    "\n",
    "#Sacle the date into inpute between 0 and 1\n",
    "#define function that scale the input\n",
    "def scale(image, label):\n",
    "    image = tf.cast(image,tf.float32)\n",
    "    image /= 255.\n",
    "    return image, label\n",
    "\n",
    "#Apllied our scale function to map function\n",
    "#Scale our train and validation data\n",
    "scaled_train_and_validation_data  =mnist_train.map(scale)\n",
    "\n",
    "#Scale our test data\n",
    "test_data = mnist_test.map(scale)\n",
    "\n",
    "#Suffling validation and train data\n",
    "#Defining Buffer size, this is a hyperparameter so we can explore it to fine tuning our model\n",
    "BUFFER_SIZE = 10000\n",
    "\n",
    "suffled_train_and_validation_data = scaled_train_and_validation_data.shuffle(BUFFER_SIZE)\n",
    "\n",
    "#Create Validation Data\n",
    "validation_data = suffled_train_and_validation_data.take(num_validation_samples)\n",
    "\n",
    "#Create Train Data\n",
    "train_data = suffled_train_and_validation_data.skip(num_validation_samples)\n",
    "\n",
    "#Set batch size\n",
    "BATCH_SIZE = 150\n",
    "\n",
    "#Set batch for train, validation and test data\n",
    "train_data = train_data.batch(BATCH_SIZE)\n",
    "validation_data = validation_data.batch(num_validation_samples)\n",
    "test_data = test_data.batch(num_test_samples)\n",
    "\n",
    "#Make Validation data has a same shape and information as train and test data\n",
    "validation_inputs, validation_outputs = next(iter(validation_data))"
   ]
  },
  {
   "cell_type": "markdown",
   "id": "f7535cfa",
   "metadata": {},
   "source": [
    "# Model"
   ]
  },
  {
   "cell_type": "markdown",
   "id": "0b04140c",
   "metadata": {},
   "source": [
    "## outline the model"
   ]
  },
  {
   "cell_type": "code",
   "execution_count": 63,
   "id": "47a46b75",
   "metadata": {},
   "outputs": [],
   "source": [
    "#Declare input, output and hidden layer size\n",
    "input_size = 784\n",
    "output_size = 10\n",
    "hidden_layer_size = 5000\n",
    "\n",
    "#Outline the model\n",
    "model = tf.keras.Sequential([\n",
    "        #Firt layer or input layer\n",
    "        #each observation is 28x28x1 pixeles, it is a tensor of rank 3\n",
    "        #Flatten the image to a vector with .Flattern method\n",
    "                            tf.keras.layers.Flatten(input_shape=(28,28,1)), #input Layer\n",
    "        #Next step is define hidden layer\n",
    "        #This argmunet is used to implementing output activation(dot(input, weight) + bias)\n",
    "        #We use activation of relu\n",
    "                            tf.keras.layers.Dense(hidden_layer_size, activation ='relu'), #1st hidden layer\n",
    "                            tf.keras.layers.Dense(hidden_layer_size, activation ='relu'), #2nd hidden layer\n",
    "        #the last it Output Layer with softmax activation\n",
    "                            tf.keras.layers.Dense(output_size, activation ='softmax')\n",
    "                            ])"
   ]
  },
  {
   "cell_type": "markdown",
   "id": "ae7ee17c",
   "metadata": {},
   "source": [
    "## Choose epitimizer and loss function"
   ]
  },
  {
   "cell_type": "code",
   "execution_count": 64,
   "id": "77a7d47e",
   "metadata": {},
   "outputs": [],
   "source": [
    "model.compile(optimizer = 'adam', loss = 'sparse_categorical_crossentropy', metrics = ['accuracy'])"
   ]
  },
  {
   "cell_type": "markdown",
   "id": "67ae09c4",
   "metadata": {},
   "source": [
    "# Training"
   ]
  },
  {
   "cell_type": "code",
   "execution_count": 65,
   "id": "101532ab",
   "metadata": {},
   "outputs": [
    {
     "name": "stdout",
     "output_type": "stream",
     "text": [
      "Epoch 1/10\n",
      "360/360 - 64s - loss: 0.1979 - accuracy: 0.9395 - val_loss: 0.1565 - val_accuracy: 0.9532 - 64s/epoch - 179ms/step\n",
      "Epoch 2/10\n",
      "360/360 - 65s - loss: 0.0791 - accuracy: 0.9756 - val_loss: 0.1007 - val_accuracy: 0.9680 - 65s/epoch - 180ms/step\n",
      "Epoch 3/10\n",
      "360/360 - 67s - loss: 0.0535 - accuracy: 0.9828 - val_loss: 0.0498 - val_accuracy: 0.9843 - 67s/epoch - 185ms/step\n",
      "Epoch 4/10\n",
      "360/360 - 76s - loss: 0.0425 - accuracy: 0.9866 - val_loss: 0.0398 - val_accuracy: 0.9883 - 76s/epoch - 211ms/step\n",
      "Epoch 5/10\n",
      "360/360 - 75s - loss: 0.0326 - accuracy: 0.9898 - val_loss: 0.0387 - val_accuracy: 0.9882 - 75s/epoch - 208ms/step\n",
      "Epoch 6/10\n",
      "360/360 - 75s - loss: 0.0306 - accuracy: 0.9904 - val_loss: 0.0329 - val_accuracy: 0.9898 - 75s/epoch - 209ms/step\n",
      "Epoch 7/10\n",
      "360/360 - 72s - loss: 0.0267 - accuracy: 0.9913 - val_loss: 0.0186 - val_accuracy: 0.9932 - 72s/epoch - 199ms/step\n",
      "Epoch 8/10\n",
      "360/360 - 66s - loss: 0.0251 - accuracy: 0.9926 - val_loss: 0.0337 - val_accuracy: 0.9915 - 66s/epoch - 183ms/step\n",
      "Epoch 9/10\n",
      "360/360 - 67s - loss: 0.0230 - accuracy: 0.9930 - val_loss: 0.0252 - val_accuracy: 0.9925 - 67s/epoch - 185ms/step\n",
      "Epoch 10/10\n",
      "360/360 - 66s - loss: 0.0209 - accuracy: 0.9935 - val_loss: 0.0245 - val_accuracy: 0.9932 - 66s/epoch - 183ms/step\n"
     ]
    },
    {
     "data": {
      "text/plain": [
       "<keras.callbacks.History at 0x2a280446e20>"
      ]
     },
     "execution_count": 65,
     "metadata": {},
     "output_type": "execute_result"
    }
   ],
   "source": [
    "#Define number of epoch that will be used\n",
    "NUM_EPOCHS = 10\n",
    "\n",
    "#Train the model\n",
    "model.fit(train_data, epochs = NUM_EPOCHS, validation_data = (validation_inputs, validation_outputs), verbose = 2)"
   ]
  },
  {
   "cell_type": "markdown",
   "id": "ba8f8b93",
   "metadata": {},
   "source": [
    "# Testing "
   ]
  },
  {
   "cell_type": "code",
   "execution_count": 66,
   "id": "8ba3ad40",
   "metadata": {},
   "outputs": [
    {
     "name": "stdout",
     "output_type": "stream",
     "text": [
      "1/1 [==============================] - 2s 2s/step - loss: 0.0980 - accuracy: 0.9807\n",
      "Test Loss: 0.098018. Test Accuracy: 98.070002%\n"
     ]
    }
   ],
   "source": [
    "test_loss, test_accuracy = model.evaluate(test_data)\n",
    "print('Test Loss: {0:2f}. Test Accuracy: {1:2f}%'.format(test_loss, test_accuracy * 100.))"
   ]
  },
  {
   "cell_type": "code",
   "execution_count": null,
   "id": "2f3d258b",
   "metadata": {},
   "outputs": [],
   "source": []
  }
 ],
 "metadata": {
  "kernelspec": {
   "display_name": "Python py3-TF2.0",
   "language": "python",
   "name": "py3-tf2.0"
  },
  "language_info": {
   "codemirror_mode": {
    "name": "ipython",
    "version": 3
   },
   "file_extension": ".py",
   "mimetype": "text/x-python",
   "name": "python",
   "nbconvert_exporter": "python",
   "pygments_lexer": "ipython3",
   "version": "3.8.13"
  }
 },
 "nbformat": 4,
 "nbformat_minor": 5
}
